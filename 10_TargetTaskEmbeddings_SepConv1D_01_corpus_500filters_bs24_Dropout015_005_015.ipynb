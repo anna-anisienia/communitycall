{
 "cells": [
  {
   "cell_type": "code",
   "execution_count": 1,
   "metadata": {
    "colab": {},
    "colab_type": "code",
    "id": "mIUc3vOVC28m",
    "outputId": "1db45ce3-415c-4b1f-e324-aabc99a5f842"
   },
   "outputs": [
    {
     "name": "stderr",
     "output_type": "stream",
     "text": [
      "Using TensorFlow backend.\n"
     ]
    }
   ],
   "source": [
    "import pandas as pd\n",
    "import numpy as np\n",
    "import matplotlib.pyplot as plt\n",
    "%matplotlib inline\n",
    "import seaborn as sns\n",
    "sns.set()\n",
    "import sklearn.metrics as skm\n",
    "from sklearn.model_selection import train_test_split\n",
    "import keras\n",
    "\n",
    "# for reproducibility\n",
    "from numpy.random import seed\n",
    "seed(1)\n",
    "from tensorflow import set_random_seed\n",
    "set_random_seed(1)"
   ]
  },
  {
   "cell_type": "code",
   "execution_count": 2,
   "metadata": {
    "colab": {},
    "colab_type": "code",
    "id": "4YJzrVGcfR-G"
   },
   "outputs": [],
   "source": [
    "path = \"../out/\"\n",
    "path_class_weights_df = \"../data/grouped_15_rm_DesSc_FieExp_LabExp_Panel_STANDARDIZED.csv\"\n",
    "path_corpus = \"../data/01_corpus/01_fuzzy_matched_corpus.jsonl\"\n",
    "\n",
    "num_classes = 15\n",
    "\n",
    "maxlen = 30000 # max nr of words per document\n",
    "max_words = 100000 # max vocab size\n",
    "\n",
    "epochs = 50\n",
    "batch_size = 24"
   ]
  },
  {
   "cell_type": "markdown",
   "metadata": {
    "colab_type": "text",
    "id": "YdEQFXVHitJe"
   },
   "source": [
    "## Preprocessing"
   ]
  },
  {
   "cell_type": "code",
   "execution_count": 3,
   "metadata": {
    "colab": {},
    "colab_type": "code",
    "id": "a3dGK76CC7jv",
    "outputId": "086eda57-3144-4363-876f-c6f416449f73"
   },
   "outputs": [
    {
     "data": {
      "text/html": [
       "<div>\n",
       "<style scoped>\n",
       "    .dataframe tbody tr th:only-of-type {\n",
       "        vertical-align: middle;\n",
       "    }\n",
       "\n",
       "    .dataframe tbody tr th {\n",
       "        vertical-align: top;\n",
       "    }\n",
       "\n",
       "    .dataframe thead th {\n",
       "        text-align: right;\n",
       "    }\n",
       "</style>\n",
       "<table border=\"1\" class=\"dataframe\">\n",
       "  <thead>\n",
       "    <tr style=\"text-align: right;\">\n",
       "      <th></th>\n",
       "      <th>RM_tidy</th>\n",
       "      <th>count</th>\n",
       "      <th>class_weight</th>\n",
       "    </tr>\n",
       "  </thead>\n",
       "  <tbody>\n",
       "    <tr>\n",
       "      <th>0</th>\n",
       "      <td>Action Research</td>\n",
       "      <td>21</td>\n",
       "      <td>151.809524</td>\n",
       "    </tr>\n",
       "    <tr>\n",
       "      <th>1</th>\n",
       "      <td>Case Study</td>\n",
       "      <td>402</td>\n",
       "      <td>7.930348</td>\n",
       "    </tr>\n",
       "    <tr>\n",
       "      <th>2</th>\n",
       "      <td>Conceptual</td>\n",
       "      <td>849</td>\n",
       "      <td>3.755006</td>\n",
       "    </tr>\n",
       "    <tr>\n",
       "      <th>3</th>\n",
       "      <td>Data Analytics</td>\n",
       "      <td>162</td>\n",
       "      <td>19.679012</td>\n",
       "    </tr>\n",
       "    <tr>\n",
       "      <th>4</th>\n",
       "      <td>Ethnography</td>\n",
       "      <td>15</td>\n",
       "      <td>212.533333</td>\n",
       "    </tr>\n",
       "    <tr>\n",
       "      <th>5</th>\n",
       "      <td>Experiment</td>\n",
       "      <td>280</td>\n",
       "      <td>11.385714</td>\n",
       "    </tr>\n",
       "    <tr>\n",
       "      <th>6</th>\n",
       "      <td>Field Study</td>\n",
       "      <td>331</td>\n",
       "      <td>9.631420</td>\n",
       "    </tr>\n",
       "    <tr>\n",
       "      <th>7</th>\n",
       "      <td>Literature Analysis</td>\n",
       "      <td>16</td>\n",
       "      <td>199.250000</td>\n",
       "    </tr>\n",
       "    <tr>\n",
       "      <th>8</th>\n",
       "      <td>Literature Review</td>\n",
       "      <td>153</td>\n",
       "      <td>20.836601</td>\n",
       "    </tr>\n",
       "    <tr>\n",
       "      <th>9</th>\n",
       "      <td>Opinion</td>\n",
       "      <td>115</td>\n",
       "      <td>27.721739</td>\n",
       "    </tr>\n",
       "    <tr>\n",
       "      <th>10</th>\n",
       "      <td>Other</td>\n",
       "      <td>271</td>\n",
       "      <td>11.763838</td>\n",
       "    </tr>\n",
       "    <tr>\n",
       "      <th>11</th>\n",
       "      <td>Prototype</td>\n",
       "      <td>85</td>\n",
       "      <td>37.505882</td>\n",
       "    </tr>\n",
       "    <tr>\n",
       "      <th>12</th>\n",
       "      <td>Simulation</td>\n",
       "      <td>46</td>\n",
       "      <td>69.304348</td>\n",
       "    </tr>\n",
       "    <tr>\n",
       "      <th>13</th>\n",
       "      <td>Survey</td>\n",
       "      <td>430</td>\n",
       "      <td>7.413953</td>\n",
       "    </tr>\n",
       "    <tr>\n",
       "      <th>14</th>\n",
       "      <td>Tutorial</td>\n",
       "      <td>12</td>\n",
       "      <td>265.666667</td>\n",
       "    </tr>\n",
       "  </tbody>\n",
       "</table>\n",
       "</div>"
      ],
      "text/plain": [
       "                RM_tidy  count  class_weight\n",
       "0       Action Research     21    151.809524\n",
       "1            Case Study    402      7.930348\n",
       "2            Conceptual    849      3.755006\n",
       "3        Data Analytics    162     19.679012\n",
       "4           Ethnography     15    212.533333\n",
       "5            Experiment    280     11.385714\n",
       "6           Field Study    331      9.631420\n",
       "7   Literature Analysis     16    199.250000\n",
       "8     Literature Review    153     20.836601\n",
       "9               Opinion    115     27.721739\n",
       "10                Other    271     11.763838\n",
       "11            Prototype     85     37.505882\n",
       "12           Simulation     46     69.304348\n",
       "13               Survey    430      7.413953\n",
       "14             Tutorial     12    265.666667"
      ]
     },
     "execution_count": 3,
     "metadata": {},
     "output_type": "execute_result"
    }
   ],
   "source": [
    "grouped_rm = pd.read_csv(path_class_weights_df)\n",
    "grouped_rm"
   ]
  },
  {
   "cell_type": "code",
   "execution_count": 4,
   "metadata": {
    "colab": {},
    "colab_type": "code",
    "id": "a9pu4gYTNaBJ",
    "outputId": "732ac167-091e-44b5-ea8c-c030710a20b2"
   },
   "outputs": [
    {
     "data": {
      "text/plain": [
       "array([151.80952381,   7.93034826,   3.75500589,  19.67901235,\n",
       "       212.53333333,  11.38571429,   9.63141994, 199.25      ,\n",
       "        20.83660131,  27.72173913,  11.76383764,  37.50588235,\n",
       "        69.30434783,   7.41395349, 265.66666667])"
      ]
     },
     "execution_count": 4,
     "metadata": {},
     "output_type": "execute_result"
    }
   ],
   "source": [
    "class_weights = grouped_rm['class_weight'].values\n",
    "class_weights"
   ]
  },
  {
   "cell_type": "code",
   "execution_count": 5,
   "metadata": {
    "colab": {},
    "colab_type": "code",
    "id": "3QVLSQtca2eM",
    "outputId": "2b1e9854-fead-46b3-8849-91a1025a6269"
   },
   "outputs": [
    {
     "data": {
      "text/plain": [
       "{0: 151.80952380952382,\n",
       " 1: 7.930348258706468,\n",
       " 2: 3.755005889281508,\n",
       " 3: 19.679012345679013,\n",
       " 4: 212.53333333333333,\n",
       " 5: 11.385714285714286,\n",
       " 6: 9.63141993957704,\n",
       " 7: 199.25,\n",
       " 8: 20.836601307189547,\n",
       " 9: 27.721739130434784,\n",
       " 10: 11.763837638376383,\n",
       " 11: 37.50588235294118,\n",
       " 12: 69.30434782608695,\n",
       " 13: 7.413953488372092,\n",
       " 14: 265.6666666666667}"
      ]
     },
     "execution_count": 5,
     "metadata": {},
     "output_type": "execute_result"
    }
   ],
   "source": [
    "dict_class_weights = {}\n",
    "for i in enumerate(class_weights):\n",
    "    dict_class_weights.update( {i[0] : i[1]} )\n",
    "\n",
    "dict_class_weights"
   ]
  },
  {
   "cell_type": "code",
   "execution_count": 6,
   "metadata": {
    "colab": {},
    "colab_type": "code",
    "id": "_W0qhtO4NaDN",
    "outputId": "47a3291c-b095-4db1-c9f8-5f1fbc1f5ffb"
   },
   "outputs": [
    {
     "data": {
      "text/html": [
       "<div>\n",
       "<style scoped>\n",
       "    .dataframe tbody tr th:only-of-type {\n",
       "        vertical-align: middle;\n",
       "    }\n",
       "\n",
       "    .dataframe tbody tr th {\n",
       "        vertical-align: top;\n",
       "    }\n",
       "\n",
       "    .dataframe thead th {\n",
       "        text-align: right;\n",
       "    }\n",
       "</style>\n",
       "<table border=\"1\" class=\"dataframe\">\n",
       "  <thead>\n",
       "    <tr style=\"text-align: right;\">\n",
       "      <th></th>\n",
       "      <th>fulltext</th>\n",
       "      <th>rm</th>\n",
       "    </tr>\n",
       "  </thead>\n",
       "  <tbody>\n",
       "    <tr>\n",
       "      <th>0</th>\n",
       "      <td>From technical to sociotechnical change: tackl...</td>\n",
       "      <td>[Other]</td>\n",
       "    </tr>\n",
       "    <tr>\n",
       "      <th>1</th>\n",
       "      <td>development: agency, institutions, and largesc...</td>\n",
       "      <td>[Case Study, Conceptual]</td>\n",
       "    </tr>\n",
       "  </tbody>\n",
       "</table>\n",
       "</div>"
      ],
      "text/plain": [
       "                                            fulltext                        rm\n",
       "0  From technical to sociotechnical change: tackl...                   [Other]\n",
       "1  development: agency, institutions, and largesc...  [Case Study, Conceptual]"
      ]
     },
     "execution_count": 6,
     "metadata": {},
     "output_type": "execute_result"
    }
   ],
   "source": [
    "fuzzy_df = pd.read_json(path_corpus, lines=True)\n",
    "fuzzy_df.head(2)"
   ]
  },
  {
   "cell_type": "code",
   "execution_count": 7,
   "metadata": {
    "colab": {},
    "colab_type": "code",
    "id": "Wy28ol-GUzLJ",
    "outputId": "1e042622-a0c5-4462-f9c3-6883a8ac3049"
   },
   "outputs": [
    {
     "name": "stdout",
     "output_type": "stream",
     "text": [
      "<class 'pandas.core.frame.DataFrame'>\n",
      "RangeIndex: 1377 entries, 0 to 1376\n",
      "Data columns (total 2 columns):\n",
      "fulltext    1377 non-null object\n",
      "rm          1377 non-null object\n",
      "dtypes: object(2)\n",
      "memory usage: 21.6+ KB\n"
     ]
    }
   ],
   "source": [
    "fuzzy_df.info()"
   ]
  },
  {
   "cell_type": "code",
   "execution_count": 8,
   "metadata": {
    "colab": {},
    "colab_type": "code",
    "id": "NcSzeBkca2eY",
    "outputId": "b511b0a6-e8b5-4703-d23c-9aceb86836ab"
   },
   "outputs": [
    {
     "name": "stdout",
     "output_type": "stream",
     "text": [
      "Found 185986 unique tokens.\n"
     ]
    }
   ],
   "source": [
    "from keras.preprocessing.text import Tokenizer\n",
    "from keras.preprocessing.sequence import pad_sequences\n",
    "\n",
    "tokenizer = Tokenizer(num_words = max_words, lower=True)\n",
    "tokenizer.fit_on_texts(fuzzy_df.fulltext)\n",
    "\n",
    "def get_features(text):\n",
    "    \"\"\"\n",
    "    transforms text data to feature_vectors that can be used in the ml model.\n",
    "    tokenizer must be available.\n",
    "    \"\"\"\n",
    "    sequences = tokenizer.texts_to_sequences(text)\n",
    "    return pad_sequences(sequences, maxlen = maxlen)\n",
    "\n",
    "x = get_features(fuzzy_df.fulltext)\n",
    "word_index = tokenizer.word_index\n",
    "print('Found %s unique tokens.' % len(word_index))"
   ]
  },
  {
   "cell_type": "code",
   "execution_count": 9,
   "metadata": {
    "colab": {},
    "colab_type": "code",
    "id": "TFGWCqoca8m1",
    "outputId": "7c924a2f-ea2f-4991-bacf-f872f6aeab9d"
   },
   "outputs": [
    {
     "data": {
      "text/plain": [
       "array(['Action Research', 'Case Study', 'Conceptual', 'Data Analytics',\n",
       "       'Ethnography', 'Experiment', 'Field Study', 'Literature Analysis',\n",
       "       'Literature Review', 'Opinion', 'Other', 'Prototype', 'Simulation',\n",
       "       'Survey', 'Tutorial'], dtype=object)"
      ]
     },
     "execution_count": 9,
     "metadata": {},
     "output_type": "execute_result"
    }
   ],
   "source": [
    "from sklearn.preprocessing import MultiLabelBinarizer\n",
    "\n",
    "multilabel_binarizer = MultiLabelBinarizer()\n",
    "multilabel_binarizer.fit(fuzzy_df.rm)\n",
    "labels = multilabel_binarizer.classes_\n",
    "labels"
   ]
  },
  {
   "cell_type": "code",
   "execution_count": 10,
   "metadata": {
    "colab": {},
    "colab_type": "code",
    "id": "Qx-aw77Pa8xa",
    "outputId": "f19556cc-0adf-4b26-907c-6a64b0a916d8"
   },
   "outputs": [
    {
     "data": {
      "text/plain": [
       "(15,)"
      ]
     },
     "execution_count": 10,
     "metadata": {},
     "output_type": "execute_result"
    }
   ],
   "source": [
    "labels.shape"
   ]
  },
  {
   "cell_type": "code",
   "execution_count": 11,
   "metadata": {
    "colab": {},
    "colab_type": "code",
    "id": "dJF9N0S2cLNu",
    "outputId": "7afcf3e4-01d1-409f-8b73-7ca8346c5422"
   },
   "outputs": [
    {
     "name": "stdout",
     "output_type": "stream",
     "text": [
      "(1377, 15)\n",
      "Shape of array in train: (963, 30000), valid: (277, 30000), test: (137, 30000)\n"
     ]
    }
   ],
   "source": [
    "from sklearn.model_selection import train_test_split\n",
    "\n",
    "y = multilabel_binarizer.transform(fuzzy_df.rm)\n",
    "print(y.shape)\n",
    "x_train, x_valid, y_train, y_valid = train_test_split(x, \n",
    "                                                      y, \n",
    "                                                      test_size=0.3, \n",
    "                                                      random_state=0)\n",
    "\n",
    "x_valid, x_test, y_valid, y_test = train_test_split(x_valid, \n",
    "                                                    y_valid, \n",
    "                                                    test_size=0.33, \n",
    "                                                    random_state=0)\n",
    "\n",
    "print(\"Shape of array in train: \" + str(x_train.shape) + \n",
    "      \", valid: \" + str(x_valid.shape) + \n",
    "      \", test: \" + str(x_test.shape)) # 70-20-10%"
   ]
  },
  {
   "cell_type": "code",
   "execution_count": 12,
   "metadata": {
    "colab": {},
    "colab_type": "code",
    "id": "NTwCi8NrcLRR",
    "outputId": "ad021717-445a-48f4-8532-648770ea1d1b"
   },
   "outputs": [
    {
     "data": {
      "text/plain": [
       "array([[0, 0, 0, ..., 0, 1, 0],\n",
       "       [0, 1, 0, ..., 0, 0, 0],\n",
       "       [0, 1, 0, ..., 0, 0, 0],\n",
       "       ...,\n",
       "       [0, 0, 0, ..., 0, 0, 0],\n",
       "       [0, 1, 0, ..., 0, 0, 0],\n",
       "       [0, 1, 1, ..., 0, 1, 0]])"
      ]
     },
     "execution_count": 12,
     "metadata": {},
     "output_type": "execute_result"
    }
   ],
   "source": [
    "# sanity check\n",
    "y_train"
   ]
  },
  {
   "cell_type": "code",
   "execution_count": 13,
   "metadata": {
    "colab": {},
    "colab_type": "code",
    "id": "rFptC4mhcLcH",
    "outputId": "2673a5ca-2086-4f2c-892f-207ed3b45dcc"
   },
   "outputs": [
    {
     "data": {
      "text/plain": [
       "array([[  0,   0,   0, ..., 218, 353, 257],\n",
       "       [  0,   0,   0, ..., 218, 353, 257],\n",
       "       [  0,   0,   0, ...,   8, 130,  40],\n",
       "       ...,\n",
       "       [  0,   0,   0, ...,  21, 270, 243],\n",
       "       [  0,   0,   0, ..., 218, 353, 257],\n",
       "       [  0,   0,   0, ..., 218, 353, 257]], dtype=int32)"
      ]
     },
     "execution_count": 13,
     "metadata": {},
     "output_type": "execute_result"
    }
   ],
   "source": [
    "# sanity check\n",
    "x_train"
   ]
  },
  {
   "cell_type": "code",
   "execution_count": 14,
   "metadata": {
    "colab": {},
    "colab_type": "code",
    "id": "nAe9ts8PNaEP",
    "outputId": "b4e518c6-acc3-44a7-9ac6-f183af0ad5c2"
   },
   "outputs": [
    {
     "data": {
      "text/plain": [
       "30000"
      ]
     },
     "execution_count": 14,
     "metadata": {},
     "output_type": "execute_result"
    }
   ],
   "source": [
    "len(x_train[0]) # each paper has been padded to maxlen of tokens"
   ]
  },
  {
   "cell_type": "markdown",
   "metadata": {
    "colab_type": "text",
    "id": "MjH6TiVWNaEx"
   },
   "source": [
    "## Model"
   ]
  },
  {
   "cell_type": "code",
   "execution_count": 15,
   "metadata": {
    "colab": {},
    "colab_type": "code",
    "id": "xXG-BFrkeDts",
    "outputId": "200d6141-bedb-486a-ec75-95817e563885"
   },
   "outputs": [
    {
     "name": "stdout",
     "output_type": "stream",
     "text": [
      "_________________________________________________________________\n",
      "Layer (type)                 Output Shape              Param #   \n",
      "=================================================================\n",
      "embedding_1 (Embedding)      (None, 30000, 400)        40000000  \n",
      "_________________________________________________________________\n",
      "dropout_1 (Dropout)          (None, 30000, 400)        0         \n",
      "_________________________________________________________________\n",
      "separable_conv1d_1 (Separabl (None, 29998, 500)        201700    \n",
      "_________________________________________________________________\n",
      "dropout_2 (Dropout)          (None, 29998, 500)        0         \n",
      "_________________________________________________________________\n",
      "global_max_pooling1d_1 (Glob (None, 500)               0         \n",
      "_________________________________________________________________\n",
      "dropout_3 (Dropout)          (None, 500)               0         \n",
      "_________________________________________________________________\n",
      "dense_1 (Dense)              (None, 15)                7515      \n",
      "=================================================================\n",
      "Total params: 40,209,215\n",
      "Trainable params: 40,209,215\n",
      "Non-trainable params: 0\n",
      "_________________________________________________________________\n"
     ]
    }
   ],
   "source": [
    "from keras.models import Sequential\n",
    "from keras.layers import Dense, Activation, Embedding, Flatten, GlobalMaxPool1D, Dropout, Conv1D, SeparableConv1D, BatchNormalization\n",
    "from keras.callbacks import ReduceLROnPlateau, EarlyStopping, ModelCheckpoint\n",
    "from keras.losses import binary_crossentropy\n",
    "from keras.optimizers import Adam\n",
    "\n",
    "nr_of_filters = 500\n",
    "\n",
    "model = Sequential()\n",
    "\n",
    "# maxlen = 30000 # max nr of words per paper => padding created up to this nr\n",
    "# max_words = 100000 # max vocab size, aka max nr of features\n",
    "model.add(Embedding(max_words, output_dim = 400, input_length = maxlen))\n",
    "model.add(Dropout(0.15))\n",
    "\n",
    "# 1D convolution layer: the input is convolved with the filter (=convolutional kernel, window) over the temporal dimension\n",
    "model.add(SeparableConv1D(filters = nr_of_filters, \n",
    "                 kernel_size = 3, # specifies length of 1D convolution window.\n",
    "                 padding = 'valid', # means \"no padding\"\n",
    "                 activation = 'relu', \n",
    "                 strides = 1))\n",
    "\n",
    "model.add(Dropout(0.05))\n",
    "\n",
    "model.add(GlobalMaxPool1D())\n",
    "\n",
    "model.add(Dropout(0.15))\n",
    "\n",
    "model.add(Dense(num_classes, activation = 'sigmoid'))\n",
    "\n",
    "# model.add(BatchNormalization())\n",
    "# model.add(Activation('sigmoid'))\n",
    "\n",
    "optimizer = Adam(lr=1e-2)\n",
    "\n",
    "model.compile(optimizer = optimizer, \n",
    "              loss = 'binary_crossentropy', \n",
    "              metrics = ['categorical_accuracy'])\n",
    "\n",
    "model.summary()"
   ]
  },
  {
   "cell_type": "code",
   "execution_count": 16,
   "metadata": {
    "colab": {},
    "colab_type": "code",
    "id": "J7FkKoa_Vodb",
    "outputId": "7d9ba464-5a4b-4593-864a-be56f94a4ccb"
   },
   "outputs": [
    {
     "data": {
      "image/png": "[encoded data removed]",
      "text/plain": [
       "<Figure size 565.2x751.5 with 1 Axes>"
      ]
     },
     "metadata": {
      "needs_background": "light"
     },
     "output_type": "display_data"
    }
   ],
   "source": [
    "import pydot\n",
    "from keras.utils import plot_model\n",
    "import matplotlib.pyplot as plt\n",
    "%matplotlib inline\n",
    "plot_model(model, \n",
    "           show_shapes=True, \n",
    "           to_file=path+'model_plot.png')\n",
    "\n",
    "def display_image_in_actual_size(im_path):\n",
    "\n",
    "    dpi = 80\n",
    "    im_data = plt.imread(im_path)\n",
    "    height, width, depth = im_data.shape\n",
    "\n",
    "    # What size does the figure need to be in inches to fit the image?\n",
    "    figsize = width / float(dpi), height / float(dpi)\n",
    "\n",
    "    # Create a figure of the right size with one axes that takes up the full figure\n",
    "    fig = plt.figure(figsize=figsize)\n",
    "    ax = fig.add_axes([0, 0, 1, 1])\n",
    "\n",
    "    # Hide spines, ticks, etc.\n",
    "    ax.axis('off')\n",
    "\n",
    "    # Display the image.\n",
    "    ax.imshow(im_data, cmap='gray')\n",
    "\n",
    "    plt.show()\n",
    "\n",
    "display_image_in_actual_size(path+'model_plot.png')"
   ]
  },
  {
   "cell_type": "code",
   "execution_count": 17,
   "metadata": {
    "colab": {},
    "colab_type": "code",
    "id": "0fZDwEr_eDwt",
    "outputId": "32550fae-2134-43d7-c267-7f02be0c5f60"
   },
   "outputs": [
    {
     "name": "stdout",
     "output_type": "stream",
     "text": [
      "Train on 963 samples, validate on 277 samples\n",
      "Epoch 1/50\n",
      "963/963 [==============================] - 38s 39ms/step - loss: 7.3021 - categorical_accuracy: 0.0789 - val_loss: 0.4051 - val_categorical_accuracy: 0.0505\n",
      "Epoch 2/50\n",
      "963/963 [==============================] - 26s 26ms/step - loss: 4.7738 - categorical_accuracy: 0.2357 - val_loss: 0.3155 - val_categorical_accuracy: 0.1047\n",
      "Epoch 3/50\n",
      "963/963 [==============================] - 25s 26ms/step - loss: 4.0227 - categorical_accuracy: 0.2949 - val_loss: 0.2789 - val_categorical_accuracy: 0.4549\n",
      "Epoch 4/50\n",
      "963/963 [==============================] - 25s 26ms/step - loss: 3.4170 - categorical_accuracy: 0.3718 - val_loss: 0.3020 - val_categorical_accuracy: 0.1805\n",
      "Epoch 5/50\n",
      "963/963 [==============================] - 25s 26ms/step - loss: 2.6265 - categorical_accuracy: 0.3863 - val_loss: 0.2729 - val_categorical_accuracy: 0.3249\n",
      "Epoch 6/50\n",
      "963/963 [==============================] - 25s 26ms/step - loss: 1.8680 - categorical_accuracy: 0.5130 - val_loss: 0.2713 - val_categorical_accuracy: 0.4007\n",
      "Epoch 7/50\n",
      "963/963 [==============================] - 25s 26ms/step - loss: 0.9349 - categorical_accuracy: 0.6251 - val_loss: 0.2539 - val_categorical_accuracy: 0.4910\n",
      "Epoch 8/50\n",
      "963/963 [==============================] - 25s 26ms/step - loss: 0.4542 - categorical_accuracy: 0.6729 - val_loss: 0.2638 - val_categorical_accuracy: 0.5090\n",
      "Epoch 9/50\n",
      "963/963 [==============================] - 25s 26ms/step - loss: 0.2789 - categorical_accuracy: 0.6584 - val_loss: 0.2768 - val_categorical_accuracy: 0.5271\n",
      "Epoch 10/50\n",
      "963/963 [==============================] - 25s 26ms/step - loss: 0.1736 - categorical_accuracy: 0.6646 - val_loss: 0.2861 - val_categorical_accuracy: 0.5379\n",
      "Epoch 11/50\n",
      "963/963 [==============================] - 25s 26ms/step - loss: 0.1178 - categorical_accuracy: 0.6937 - val_loss: 0.2995 - val_categorical_accuracy: 0.4982\n",
      "Epoch 12/50\n",
      "963/963 [==============================] - 25s 26ms/step - loss: 0.0861 - categorical_accuracy: 0.6812 - val_loss: 0.3088 - val_categorical_accuracy: 0.5126\n",
      "Epoch 13/50\n",
      "963/963 [==============================] - 25s 26ms/step - loss: 0.0568 - categorical_accuracy: 0.6812 - val_loss: 0.3283 - val_categorical_accuracy: 0.5560\n",
      "Epoch 14/50\n",
      "963/963 [==============================] - 25s 26ms/step - loss: 0.0597 - categorical_accuracy: 0.6957 - val_loss: 0.3196 - val_categorical_accuracy: 0.5199\n",
      "Epoch 15/50\n",
      "963/963 [==============================] - 25s 26ms/step - loss: 0.0403 - categorical_accuracy: 0.6802 - val_loss: 0.3518 - val_categorical_accuracy: 0.5776\n",
      "Epoch 16/50\n",
      "963/963 [==============================] - 25s 26ms/step - loss: 0.0372 - categorical_accuracy: 0.6843 - val_loss: 0.3418 - val_categorical_accuracy: 0.5343\n",
      "Epoch 17/50\n",
      "963/963 [==============================] - 25s 26ms/step - loss: 0.0853 - categorical_accuracy: 0.7009 - val_loss: 0.3629 - val_categorical_accuracy: 0.5199\n",
      "Epoch 18/50\n",
      "963/963 [==============================] - 25s 26ms/step - loss: 0.2451 - categorical_accuracy: 0.6885 - val_loss: 0.3686 - val_categorical_accuracy: 0.5271\n",
      "Epoch 19/50\n",
      "963/963 [==============================] - 25s 26ms/step - loss: 0.1540 - categorical_accuracy: 0.6687 - val_loss: 0.3459 - val_categorical_accuracy: 0.5199\n",
      "Epoch 20/50\n",
      "963/963 [==============================] - 25s 26ms/step - loss: 0.0694 - categorical_accuracy: 0.7300 - val_loss: 0.3679 - val_categorical_accuracy: 0.5740\n",
      "Epoch 21/50\n",
      "963/963 [==============================] - 25s 26ms/step - loss: 0.0459 - categorical_accuracy: 0.7186 - val_loss: 0.3665 - val_categorical_accuracy: 0.5596\n"
     ]
    }
   ],
   "source": [
    "callbacks = [ReduceLROnPlateau(monitor='val_categorical_accuracy', \n",
    "                               factor=0.5, \n",
    "                               patience=3, \n",
    "                               min_delta=0.0001, \n",
    "                               min_lr=0.00000001),\n",
    "# p.158: model may still be improving even if this isn’t reflected in AVG loss.\n",
    "    \n",
    "             EarlyStopping(monitor='loss', \n",
    "                  min_delta=0.0001, \n",
    "                  patience=5),\n",
    "    \n",
    "             ModelCheckpoint(filepath=path+'best_model_checkpoint.h5', \n",
    "                    monitor='val_categorical_accuracy',\n",
    "                    save_best_only=True)]\n",
    "\n",
    "history = model.fit(x_train, \n",
    "                    y_train,\n",
    "                    class_weight = dict_class_weights,\n",
    "                    epochs = epochs,\n",
    "                    batch_size = batch_size,\n",
    "                    validation_data = (x_valid, y_valid),\n",
    "                    callbacks = callbacks)"
   ]
  },
  {
   "cell_type": "code",
   "execution_count": 18,
   "metadata": {
    "colab": {},
    "colab_type": "code",
    "id": "99vsGiDTrwVn"
   },
   "outputs": [],
   "source": [
    "model.save(path+'full_model.h5') # for full training cycle"
   ]
  },
  {
   "cell_type": "code",
   "execution_count": 19,
   "metadata": {
    "colab": {},
    "colab_type": "code",
    "id": "YepwGUOsNaFB",
    "outputId": "033c1d61-1524-4643-dd89-25960685cdf4"
   },
   "outputs": [
    {
     "data": {
      "image/png": "[encoded data removed]",
      "text/plain": [
       "<Figure size 432x288 with 1 Axes>"
      ]
     },
     "metadata": {},
     "output_type": "display_data"
    },
    {
     "data": {
      "image/png": "[encoded data removed]",
      "text/plain": [
       "<Figure size 432x288 with 1 Axes>"
      ]
     },
     "metadata": {},
     "output_type": "display_data"
    }
   ],
   "source": [
    "import matplotlib.pyplot as plt\n",
    "%matplotlib inline\n",
    "import seaborn as sns\n",
    "sns.set()\n",
    "\n",
    "acc = history.history['categorical_accuracy']\n",
    "val_acc = history.history['val_categorical_accuracy']\n",
    "loss = history.history['loss']\n",
    "val_loss = history.history['val_loss']\n",
    "epochs = range(1, len(acc) + 1)\n",
    "plt.plot(epochs, acc, 'bo', label='Training categorical_accuracy')\n",
    "plt.plot(epochs, val_acc, 'b', label='Validation categorical_accuracy')\n",
    "plt.title('Training and validation accuracy')\n",
    "plt.legend()\n",
    "plt.figure()\n",
    "plt.plot(epochs, loss, 'bo', label='Training loss')\n",
    "plt.plot(epochs, val_loss, 'b', label='Validation loss')\n",
    "plt.title('Training and validation loss')\n",
    "plt.legend()\n",
    "plt.show()"
   ]
  },
  {
   "cell_type": "markdown",
   "metadata": {
    "colab_type": "text",
    "id": "3jo7womKsIUm"
   },
   "source": [
    "## Best model from Checkpoint"
   ]
  },
  {
   "cell_type": "code",
   "execution_count": 20,
   "metadata": {
    "colab": {},
    "colab_type": "code",
    "id": "Wh-l4EmNNaFh",
    "outputId": "c2476e9e-3201-4db5-e7f1-b5133bfafb0e"
   },
   "outputs": [
    {
     "name": "stdout",
     "output_type": "stream",
     "text": [
      "137/137 [==============================] - 1s 9ms/step\n",
      "loss: 0.3833450809882505\n",
      "categorical_accuracy: 0.49635036518103887\n",
      "\n",
      "\n",
      "Evaluation metrics on the train, valid and test set:\n",
      "\n",
      "\n",
      "True nr of positive labels in the train set:       [ 13 221 448 106   6 117 184  60  95  32 128  39  27 239   5]\n",
      "Predicted nr of positive labels for the train set: [ 13 222 448 106   6 117 184  60  95  32 127  39  27 239   5]\n",
      "\n",
      "\n",
      "True nr of positive labels in the valid set:       [  4  59 148  34   3  29  58  14  34   8  33  14   7  70   2]\n",
      "Predicted nr of positive labels for the valid set: [  0  73 185  29   0  20  53  16  14   5  11   9   3  64   0]\n",
      "\n",
      "\n",
      "True nr of positive labels in the test set:       [ 0 31 56 17  2 13 26 12 12  8 18  5  1 34  2]\n",
      "Predicted nr of positive labels for the test set: [ 1 39 81 11  1  6 28 10  2  2  4  2  0 29  0]\n"
     ]
    },
    {
     "data": {
      "text/html": [
       "<div>\n",
       "<style scoped>\n",
       "    .dataframe tbody tr th:only-of-type {\n",
       "        vertical-align: middle;\n",
       "    }\n",
       "\n",
       "    .dataframe tbody tr th {\n",
       "        vertical-align: top;\n",
       "    }\n",
       "\n",
       "    .dataframe thead th {\n",
       "        text-align: right;\n",
       "    }\n",
       "</style>\n",
       "<table border=\"1\" class=\"dataframe\">\n",
       "  <thead>\n",
       "    <tr style=\"text-align: right;\">\n",
       "      <th></th>\n",
       "      <th>train</th>\n",
       "      <th>valid</th>\n",
       "      <th>test</th>\n",
       "    </tr>\n",
       "  </thead>\n",
       "  <tbody>\n",
       "    <tr>\n",
       "      <th>precision</th>\n",
       "      <td>0.999419</td>\n",
       "      <td>0.647303</td>\n",
       "      <td>0.592593</td>\n",
       "    </tr>\n",
       "    <tr>\n",
       "      <th>recall</th>\n",
       "      <td>0.999419</td>\n",
       "      <td>0.603482</td>\n",
       "      <td>0.540084</td>\n",
       "    </tr>\n",
       "    <tr>\n",
       "      <th>f1_measure</th>\n",
       "      <td>0.999419</td>\n",
       "      <td>0.624625</td>\n",
       "      <td>0.565121</td>\n",
       "    </tr>\n",
       "    <tr>\n",
       "      <th>hamming_loss</th>\n",
       "      <td>0.000138</td>\n",
       "      <td>0.090253</td>\n",
       "      <td>0.095864</td>\n",
       "    </tr>\n",
       "    <tr>\n",
       "      <th>exact_match</th>\n",
       "      <td>0.998962</td>\n",
       "      <td>0.292419</td>\n",
       "      <td>0.262774</td>\n",
       "    </tr>\n",
       "  </tbody>\n",
       "</table>\n",
       "</div>"
      ],
      "text/plain": [
       "                 train     valid      test\n",
       "precision     0.999419  0.647303  0.592593\n",
       "recall        0.999419  0.603482  0.540084\n",
       "f1_measure    0.999419  0.624625  0.565121\n",
       "hamming_loss  0.000138  0.090253  0.095864\n",
       "exact_match   0.998962  0.292419  0.262774"
      ]
     },
     "execution_count": 20,
     "metadata": {},
     "output_type": "execute_result"
    }
   ],
   "source": [
    "model = keras.models.load_model(path+'best_model_checkpoint.h5')\n",
    "metrics = model.evaluate(x_test, y_test)\n",
    "print(\"{}: {}\".format(model.metrics_names[0], metrics[0]))\n",
    "print(\"{}: {}\".format(model.metrics_names[1], metrics[1]))\n",
    "print(\"\\n\")\n",
    "#________________________________________________________________________________\n",
    "y_pred_train = model.predict(x_train)\n",
    "\n",
    "threshold = 0.5\n",
    "y_pred_train[y_pred_train >= threshold] = 1\n",
    "y_pred_train[y_pred_train < threshold] = 0\n",
    "\n",
    "classifier_metrics = {}\n",
    "classifier_metrics.update({'precision':skm.precision_score(y_train, y_pred_train, average='micro')})\n",
    "\n",
    "classifier_metrics.update({'recall':skm.recall_score(y_train, y_pred_train, average='micro')})\n",
    "\n",
    "classifier_metrics.update({'f1_measure':skm.f1_score(y_train, y_pred_train, average='micro')})\n",
    "\n",
    "classifier_metrics.update({'hamming_loss':skm.hamming_loss(y_train, y_pred_train)})\n",
    "\n",
    "classifier_metrics.update({'exact_match':skm.accuracy_score(y_train, y_pred_train)})\n",
    "\n",
    "classifier_metrics_train_df = pd.DataFrame.from_dict(data = classifier_metrics, orient='index', columns=['train'])\n",
    "\n",
    "#________________________________________________________________________________\n",
    "y_pred_valid = model.predict(x_valid)\n",
    "\n",
    "y_pred_valid[y_pred_valid >= threshold] = 1\n",
    "y_pred_valid[y_pred_valid < threshold] = 0\n",
    "\n",
    "classifier_metrics = {}\n",
    "classifier_metrics.update({'precision':skm.precision_score(y_valid, y_pred_valid, average='micro')})\n",
    "\n",
    "classifier_metrics.update({'recall':skm.recall_score(y_valid, y_pred_valid, average='micro')})\n",
    "\n",
    "classifier_metrics.update({'f1_measure':skm.f1_score(y_valid, y_pred_valid, average='micro')})\n",
    "\n",
    "classifier_metrics.update({'hamming_loss':skm.hamming_loss(y_valid, y_pred_valid)})\n",
    "\n",
    "classifier_metrics.update({'exact_match':skm.accuracy_score(y_valid, y_pred_valid)})\n",
    "\n",
    "classifier_metrics_valid_df = pd.DataFrame.from_dict(data = classifier_metrics, orient='index', columns=['valid'])\n",
    "#____________________________________________________________________________________\n",
    "y_pred_test = model.predict(x_test)\n",
    "print(\"Evaluation metrics on the train, valid and test set:\")\n",
    "\n",
    "y_pred_test[y_pred_test >= threshold] = 1\n",
    "y_pred_test[y_pred_test < threshold] = 0\n",
    "\n",
    "classifier_metrics = {}\n",
    "classifier_metrics.update({'precision':skm.precision_score(y_test, y_pred_test, average='micro')})\n",
    "\n",
    "classifier_metrics.update({'recall':skm.recall_score(y_test, y_pred_test, average='micro')})\n",
    "\n",
    "classifier_metrics.update({'f1_measure':skm.f1_score(y_test, y_pred_test, average='micro')})\n",
    "\n",
    "classifier_metrics.update({'hamming_loss':skm.hamming_loss(y_test, y_pred_test)})\n",
    "\n",
    "classifier_metrics.update({'exact_match':skm.accuracy_score(y_test, y_pred_test)})\n",
    "\n",
    "classifier_metrics_test_df = pd.DataFrame.from_dict(data = classifier_metrics, orient='index', columns=['test'])\n",
    "#____________________________________________________________________________________\n",
    "print(\"\\n\")\n",
    "print(\"True nr of positive labels in the train set:       \" + str(sum(y_train.astype(int))) + \"\\n\" +\n",
    "      \"Predicted nr of positive labels for the train set: \" + str(sum(y_pred_train.astype(int))))\n",
    "\n",
    "print(\"\\n\")\n",
    "print(\"True nr of positive labels in the valid set:       \" + str(sum(y_valid.astype(int))) + \"\\n\" +\n",
    "      \"Predicted nr of positive labels for the valid set: \" + str(sum(y_pred_valid.astype(int))))\n",
    "\n",
    "print(\"\\n\")\n",
    "print(\"True nr of positive labels in the test set:       \" + str(sum(y_test.astype(int))) + \"\\n\" +\n",
    "      \"Predicted nr of positive labels for the test set: \" + str(sum(y_pred_test.astype(int))))\n",
    "\n",
    "results = pd.concat(objs = [classifier_metrics_train_df,\n",
    "                            classifier_metrics_valid_df,\n",
    "                            classifier_metrics_test_df], axis = 1)\n",
    "results.to_csv(path+'results_best.csv',\n",
    "                               index=True,\n",
    "                               header=True)\n",
    "test_statistics = pd.DataFrame([sum(y_train.astype(int)), sum(y_pred_train.astype(int)),\n",
    "                                sum(y_valid.astype(int)), sum(y_pred_valid.astype(int)),\n",
    "                                sum(y_test.astype(int)), sum(y_pred_test.astype(int))],\n",
    "                               columns=labels,\n",
    "                               index = [\"TruePosTrain\", \"PredPosTrain\",\n",
    "                                       \"TruePosValid\", \"PredPosValid\",\n",
    "                                        \"TruePosTest\", \"PredPosTest\"]).transpose()\n",
    "test_statistics.loc['Average'] = test_statistics.mean().astype(int)\n",
    "test_statistics.to_csv(path+'test_statistics_best.csv', index=True)\n",
    "\n",
    "results\n",
    "# Predictions generated.\n",
    "# ====================\n",
    "# Evaluation metrics on the train, valid and test set:\n",
    "# train\tvalid\ttest\n",
    "# precision\t0.999419\t0.753378\t0.696774\n",
    "# recall\t0.999419\t0.431335\t0.455696\n",
    "# f1_measure\t0.999419\t0.548585\t0.551020\n",
    "# hamming_loss\t0.000138\t0.088327\t0.085645\n",
    "# exact_match\t0.998962\t0.259928\t0.240876"
   ]
  },
  {
   "cell_type": "code",
   "execution_count": 21,
   "metadata": {
    "colab": {},
    "colab_type": "code",
    "id": "XQ81jKuLtBX7",
    "outputId": "b8b83ad7-44d1-4c65-c7fb-0631819fd21e"
   },
   "outputs": [
    {
     "data": {
      "text/html": [
       "<div>\n",
       "<style scoped>\n",
       "    .dataframe tbody tr th:only-of-type {\n",
       "        vertical-align: middle;\n",
       "    }\n",
       "\n",
       "    .dataframe tbody tr th {\n",
       "        vertical-align: top;\n",
       "    }\n",
       "\n",
       "    .dataframe thead th {\n",
       "        text-align: right;\n",
       "    }\n",
       "</style>\n",
       "<table border=\"1\" class=\"dataframe\">\n",
       "  <thead>\n",
       "    <tr style=\"text-align: right;\">\n",
       "      <th></th>\n",
       "      <th>TruePosTrain</th>\n",
       "      <th>PredPosTrain</th>\n",
       "      <th>TruePosValid</th>\n",
       "      <th>PredPosValid</th>\n",
       "      <th>TruePosTest</th>\n",
       "      <th>PredPosTest</th>\n",
       "    </tr>\n",
       "  </thead>\n",
       "  <tbody>\n",
       "    <tr>\n",
       "      <th>Action Research</th>\n",
       "      <td>13</td>\n",
       "      <td>13</td>\n",
       "      <td>4</td>\n",
       "      <td>0</td>\n",
       "      <td>0</td>\n",
       "      <td>1</td>\n",
       "    </tr>\n",
       "    <tr>\n",
       "      <th>Case Study</th>\n",
       "      <td>221</td>\n",
       "      <td>222</td>\n",
       "      <td>59</td>\n",
       "      <td>73</td>\n",
       "      <td>31</td>\n",
       "      <td>39</td>\n",
       "    </tr>\n",
       "    <tr>\n",
       "      <th>Conceptual</th>\n",
       "      <td>448</td>\n",
       "      <td>448</td>\n",
       "      <td>148</td>\n",
       "      <td>185</td>\n",
       "      <td>56</td>\n",
       "      <td>81</td>\n",
       "    </tr>\n",
       "    <tr>\n",
       "      <th>Data Analytics</th>\n",
       "      <td>106</td>\n",
       "      <td>106</td>\n",
       "      <td>34</td>\n",
       "      <td>29</td>\n",
       "      <td>17</td>\n",
       "      <td>11</td>\n",
       "    </tr>\n",
       "    <tr>\n",
       "      <th>Ethnography</th>\n",
       "      <td>6</td>\n",
       "      <td>6</td>\n",
       "      <td>3</td>\n",
       "      <td>0</td>\n",
       "      <td>2</td>\n",
       "      <td>1</td>\n",
       "    </tr>\n",
       "    <tr>\n",
       "      <th>Experiment</th>\n",
       "      <td>117</td>\n",
       "      <td>117</td>\n",
       "      <td>29</td>\n",
       "      <td>20</td>\n",
       "      <td>13</td>\n",
       "      <td>6</td>\n",
       "    </tr>\n",
       "    <tr>\n",
       "      <th>Field Study</th>\n",
       "      <td>184</td>\n",
       "      <td>184</td>\n",
       "      <td>58</td>\n",
       "      <td>53</td>\n",
       "      <td>26</td>\n",
       "      <td>28</td>\n",
       "    </tr>\n",
       "    <tr>\n",
       "      <th>Literature Analysis</th>\n",
       "      <td>60</td>\n",
       "      <td>60</td>\n",
       "      <td>14</td>\n",
       "      <td>16</td>\n",
       "      <td>12</td>\n",
       "      <td>10</td>\n",
       "    </tr>\n",
       "    <tr>\n",
       "      <th>Literature Review</th>\n",
       "      <td>95</td>\n",
       "      <td>95</td>\n",
       "      <td>34</td>\n",
       "      <td>14</td>\n",
       "      <td>12</td>\n",
       "      <td>2</td>\n",
       "    </tr>\n",
       "    <tr>\n",
       "      <th>Opinion</th>\n",
       "      <td>32</td>\n",
       "      <td>32</td>\n",
       "      <td>8</td>\n",
       "      <td>5</td>\n",
       "      <td>8</td>\n",
       "      <td>2</td>\n",
       "    </tr>\n",
       "    <tr>\n",
       "      <th>Other</th>\n",
       "      <td>128</td>\n",
       "      <td>127</td>\n",
       "      <td>33</td>\n",
       "      <td>11</td>\n",
       "      <td>18</td>\n",
       "      <td>4</td>\n",
       "    </tr>\n",
       "    <tr>\n",
       "      <th>Prototype</th>\n",
       "      <td>39</td>\n",
       "      <td>39</td>\n",
       "      <td>14</td>\n",
       "      <td>9</td>\n",
       "      <td>5</td>\n",
       "      <td>2</td>\n",
       "    </tr>\n",
       "    <tr>\n",
       "      <th>Simulation</th>\n",
       "      <td>27</td>\n",
       "      <td>27</td>\n",
       "      <td>7</td>\n",
       "      <td>3</td>\n",
       "      <td>1</td>\n",
       "      <td>0</td>\n",
       "    </tr>\n",
       "    <tr>\n",
       "      <th>Survey</th>\n",
       "      <td>239</td>\n",
       "      <td>239</td>\n",
       "      <td>70</td>\n",
       "      <td>64</td>\n",
       "      <td>34</td>\n",
       "      <td>29</td>\n",
       "    </tr>\n",
       "    <tr>\n",
       "      <th>Tutorial</th>\n",
       "      <td>5</td>\n",
       "      <td>5</td>\n",
       "      <td>2</td>\n",
       "      <td>0</td>\n",
       "      <td>2</td>\n",
       "      <td>0</td>\n",
       "    </tr>\n",
       "    <tr>\n",
       "      <th>Average</th>\n",
       "      <td>114</td>\n",
       "      <td>114</td>\n",
       "      <td>34</td>\n",
       "      <td>32</td>\n",
       "      <td>15</td>\n",
       "      <td>14</td>\n",
       "    </tr>\n",
       "  </tbody>\n",
       "</table>\n",
       "</div>"
      ],
      "text/plain": [
       "                     TruePosTrain     ...       PredPosTest\n",
       "Action Research                13     ...                 1\n",
       "Case Study                    221     ...                39\n",
       "Conceptual                    448     ...                81\n",
       "Data Analytics                106     ...                11\n",
       "Ethnography                     6     ...                 1\n",
       "Experiment                    117     ...                 6\n",
       "Field Study                   184     ...                28\n",
       "Literature Analysis            60     ...                10\n",
       "Literature Review              95     ...                 2\n",
       "Opinion                        32     ...                 2\n",
       "Other                         128     ...                 4\n",
       "Prototype                      39     ...                 2\n",
       "Simulation                     27     ...                 0\n",
       "Survey                        239     ...                29\n",
       "Tutorial                        5     ...                 0\n",
       "Average                       114     ...                14\n",
       "\n",
       "[16 rows x 6 columns]"
      ]
     },
     "execution_count": 21,
     "metadata": {},
     "output_type": "execute_result"
    }
   ],
   "source": [
    "test_statistics"
   ]
  },
  {
   "cell_type": "markdown",
   "metadata": {
    "colab_type": "text",
    "id": "Uhe-FBxQtLmv"
   },
   "source": [
    "## Full model: all epochs trained"
   ]
  },
  {
   "cell_type": "code",
   "execution_count": 22,
   "metadata": {
    "colab": {},
    "colab_type": "code",
    "id": "YbcgdDHhtPEG",
    "outputId": "5f0dc9e4-cfdf-4be0-aee6-2d511dbb385e"
   },
   "outputs": [
    {
     "name": "stdout",
     "output_type": "stream",
     "text": [
      "137/137 [==============================] - 1s 5ms/step\n",
      "loss: 0.3670517021287097\n",
      "categorical_accuracy: 0.45985401481607535\n",
      "\n",
      "\n",
      "Evaluation metrics on the train, valid and test set:\n",
      "\n",
      "\n",
      "True nr of positive labels in the train set:       [ 13 221 448 106   6 117 184  60  95  32 128  39  27 239   5]\n",
      "Predicted nr of positive labels for the train set: [ 13 220 448 106   6 117 184  60  95  32 127  39  27 239   5]\n",
      "\n",
      "\n",
      "True nr of positive labels in the valid set:       [  4  59 148  34   3  29  58  14  34   8  33  14   7  70   2]\n",
      "Predicted nr of positive labels for the valid set: [  1  61 169  36   0  20  47  16  19   8  17   8   5  63   0]\n",
      "\n",
      "\n",
      "True nr of positive labels in the test set:       [ 0 31 56 17  2 13 26 12 12  8 18  5  1 34  2]\n",
      "Predicted nr of positive labels for the test set: [ 2 36 66 17  0  6 22 12  4  2 10  2  0 30  1]\n"
     ]
    },
    {
     "data": {
      "text/html": [
       "<div>\n",
       "<style scoped>\n",
       "    .dataframe tbody tr th:only-of-type {\n",
       "        vertical-align: middle;\n",
       "    }\n",
       "\n",
       "    .dataframe tbody tr th {\n",
       "        vertical-align: top;\n",
       "    }\n",
       "\n",
       "    .dataframe thead th {\n",
       "        text-align: right;\n",
       "    }\n",
       "</style>\n",
       "<table border=\"1\" class=\"dataframe\">\n",
       "  <thead>\n",
       "    <tr style=\"text-align: right;\">\n",
       "      <th></th>\n",
       "      <th>train</th>\n",
       "      <th>valid</th>\n",
       "      <th>test</th>\n",
       "    </tr>\n",
       "  </thead>\n",
       "  <tbody>\n",
       "    <tr>\n",
       "      <th>precision</th>\n",
       "      <td>1.000000</td>\n",
       "      <td>0.640426</td>\n",
       "      <td>0.623810</td>\n",
       "    </tr>\n",
       "    <tr>\n",
       "      <th>recall</th>\n",
       "      <td>0.998837</td>\n",
       "      <td>0.582205</td>\n",
       "      <td>0.552743</td>\n",
       "    </tr>\n",
       "    <tr>\n",
       "      <th>f1_measure</th>\n",
       "      <td>0.999418</td>\n",
       "      <td>0.609929</td>\n",
       "      <td>0.586130</td>\n",
       "    </tr>\n",
       "    <tr>\n",
       "      <th>hamming_loss</th>\n",
       "      <td>0.000138</td>\n",
       "      <td>0.092659</td>\n",
       "      <td>0.090024</td>\n",
       "    </tr>\n",
       "    <tr>\n",
       "      <th>exact_match</th>\n",
       "      <td>0.997923</td>\n",
       "      <td>0.285199</td>\n",
       "      <td>0.284672</td>\n",
       "    </tr>\n",
       "  </tbody>\n",
       "</table>\n",
       "</div>"
      ],
      "text/plain": [
       "                 train     valid      test\n",
       "precision     1.000000  0.640426  0.623810\n",
       "recall        0.998837  0.582205  0.552743\n",
       "f1_measure    0.999418  0.609929  0.586130\n",
       "hamming_loss  0.000138  0.092659  0.090024\n",
       "exact_match   0.997923  0.285199  0.284672"
      ]
     },
     "execution_count": 22,
     "metadata": {},
     "output_type": "execute_result"
    }
   ],
   "source": [
    "model = keras.models.load_model(path+'full_model.h5')\n",
    "metrics = model.evaluate(x_test, y_test)\n",
    "print(\"{}: {}\".format(model.metrics_names[0], metrics[0]))\n",
    "print(\"{}: {}\".format(model.metrics_names[1], metrics[1]))\n",
    "print(\"\\n\")\n",
    "#________________________________________________________________________________\n",
    "y_pred_train = model.predict(x_train)\n",
    "\n",
    "threshold = 0.5\n",
    "y_pred_train[y_pred_train >= threshold] = 1\n",
    "y_pred_train[y_pred_train < threshold] = 0\n",
    "\n",
    "classifier_metrics = {}\n",
    "classifier_metrics.update({'precision':skm.precision_score(y_train, y_pred_train, average='micro')})\n",
    "\n",
    "classifier_metrics.update({'recall':skm.recall_score(y_train, y_pred_train, average='micro')})\n",
    "\n",
    "classifier_metrics.update({'f1_measure':skm.f1_score(y_train, y_pred_train, average='micro')})\n",
    "\n",
    "classifier_metrics.update({'hamming_loss':skm.hamming_loss(y_train, y_pred_train)})\n",
    "\n",
    "classifier_metrics.update({'exact_match':skm.accuracy_score(y_train, y_pred_train)})\n",
    "\n",
    "classifier_metrics_train_df = pd.DataFrame.from_dict(data = classifier_metrics, orient='index', columns=['train'])\n",
    "\n",
    "#________________________________________________________________________________\n",
    "y_pred_valid = model.predict(x_valid)\n",
    "\n",
    "y_pred_valid[y_pred_valid >= threshold] = 1\n",
    "y_pred_valid[y_pred_valid < threshold] = 0\n",
    "\n",
    "classifier_metrics = {}\n",
    "classifier_metrics.update({'precision':skm.precision_score(y_valid, y_pred_valid, average='micro')})\n",
    "\n",
    "classifier_metrics.update({'recall':skm.recall_score(y_valid, y_pred_valid, average='micro')})\n",
    "\n",
    "classifier_metrics.update({'f1_measure':skm.f1_score(y_valid, y_pred_valid, average='micro')})\n",
    "\n",
    "classifier_metrics.update({'hamming_loss':skm.hamming_loss(y_valid, y_pred_valid)})\n",
    "\n",
    "classifier_metrics.update({'exact_match':skm.accuracy_score(y_valid, y_pred_valid)})\n",
    "\n",
    "classifier_metrics_valid_df = pd.DataFrame.from_dict(data = classifier_metrics, orient='index', columns=['valid'])\n",
    "#____________________________________________________________________________________\n",
    "y_pred_test = model.predict(x_test)\n",
    "print(\"Evaluation metrics on the train, valid and test set:\")\n",
    "\n",
    "y_pred_test[y_pred_test >= threshold] = 1\n",
    "y_pred_test[y_pred_test < threshold] = 0\n",
    "\n",
    "classifier_metrics = {}\n",
    "classifier_metrics.update({'precision':skm.precision_score(y_test, y_pred_test, average='micro')})\n",
    "\n",
    "classifier_metrics.update({'recall':skm.recall_score(y_test, y_pred_test, average='micro')})\n",
    "\n",
    "classifier_metrics.update({'f1_measure':skm.f1_score(y_test, y_pred_test, average='micro')})\n",
    "\n",
    "classifier_metrics.update({'hamming_loss':skm.hamming_loss(y_test, y_pred_test)})\n",
    "\n",
    "classifier_metrics.update({'exact_match':skm.accuracy_score(y_test, y_pred_test)})\n",
    "\n",
    "classifier_metrics_test_df = pd.DataFrame.from_dict(data = classifier_metrics, orient='index', columns=['test'])\n",
    "#____________________________________________________________________________________\n",
    "print(\"\\n\")\n",
    "print(\"True nr of positive labels in the train set:       \" + str(sum(y_train.astype(int))) + \"\\n\" +\n",
    "      \"Predicted nr of positive labels for the train set: \" + str(sum(y_pred_train.astype(int))))\n",
    "\n",
    "print(\"\\n\")\n",
    "print(\"True nr of positive labels in the valid set:       \" + str(sum(y_valid.astype(int))) + \"\\n\" +\n",
    "      \"Predicted nr of positive labels for the valid set: \" + str(sum(y_pred_valid.astype(int))))\n",
    "\n",
    "print(\"\\n\")\n",
    "print(\"True nr of positive labels in the test set:       \" + str(sum(y_test.astype(int))) + \"\\n\" +\n",
    "      \"Predicted nr of positive labels for the test set: \" + str(sum(y_pred_test.astype(int))))\n",
    "\n",
    "results = pd.concat(objs = [classifier_metrics_train_df,\n",
    "                            classifier_metrics_valid_df,\n",
    "                            classifier_metrics_test_df], axis = 1)\n",
    "results.to_csv(path+'results_full.csv',\n",
    "                               index=True,\n",
    "                               header=True)\n",
    "test_statistics = pd.DataFrame([sum(y_train.astype(int)), sum(y_pred_train.astype(int)),\n",
    "                                sum(y_valid.astype(int)), sum(y_pred_valid.astype(int)),\n",
    "                                sum(y_test.astype(int)), sum(y_pred_test.astype(int))],\n",
    "                               columns=labels,\n",
    "                               index = [\"TruePosTrain\", \"PredPosTrain\",\n",
    "                                       \"TruePosValid\", \"PredPosValid\",\n",
    "                                        \"TruePosTest\", \"PredPosTest\"]).transpose()\n",
    "test_statistics.loc['Average'] = test_statistics.mean().astype(int)\n",
    "test_statistics.to_csv(path+'test_statistics_full.csv', index=True)\n",
    "\n",
    "results\n",
    "# Predictions generated.\n",
    "# ====================\n",
    "# Evaluation metrics on the train, valid and test set:\n",
    "# train\tvalid\ttest\n",
    "# precision\t0.999419\t0.753378\t0.696774\n",
    "# recall\t0.999419\t0.431335\t0.455696\n",
    "# f1_measure\t0.999419\t0.548585\t0.551020\n",
    "# hamming_loss\t0.000138\t0.088327\t0.085645\n",
    "# exact_match\t0.998962\t0.259928\t0.240876"
   ]
  },
  {
   "cell_type": "code",
   "execution_count": 23,
   "metadata": {
    "colab": {},
    "colab_type": "code",
    "id": "DinLd0hKPuhJ",
    "outputId": "ece8cbbf-73ee-4352-ccdb-6d86e5a5daa4"
   },
   "outputs": [
    {
     "data": {
      "text/html": [
       "<div>\n",
       "<style scoped>\n",
       "    .dataframe tbody tr th:only-of-type {\n",
       "        vertical-align: middle;\n",
       "    }\n",
       "\n",
       "    .dataframe tbody tr th {\n",
       "        vertical-align: top;\n",
       "    }\n",
       "\n",
       "    .dataframe thead th {\n",
       "        text-align: right;\n",
       "    }\n",
       "</style>\n",
       "<table border=\"1\" class=\"dataframe\">\n",
       "  <thead>\n",
       "    <tr style=\"text-align: right;\">\n",
       "      <th></th>\n",
       "      <th>TruePosTrain</th>\n",
       "      <th>PredPosTrain</th>\n",
       "      <th>TruePosValid</th>\n",
       "      <th>PredPosValid</th>\n",
       "      <th>TruePosTest</th>\n",
       "      <th>PredPosTest</th>\n",
       "    </tr>\n",
       "  </thead>\n",
       "  <tbody>\n",
       "    <tr>\n",
       "      <th>Action Research</th>\n",
       "      <td>13</td>\n",
       "      <td>13</td>\n",
       "      <td>4</td>\n",
       "      <td>1</td>\n",
       "      <td>0</td>\n",
       "      <td>2</td>\n",
       "    </tr>\n",
       "    <tr>\n",
       "      <th>Case Study</th>\n",
       "      <td>221</td>\n",
       "      <td>220</td>\n",
       "      <td>59</td>\n",
       "      <td>61</td>\n",
       "      <td>31</td>\n",
       "      <td>36</td>\n",
       "    </tr>\n",
       "    <tr>\n",
       "      <th>Conceptual</th>\n",
       "      <td>448</td>\n",
       "      <td>448</td>\n",
       "      <td>148</td>\n",
       "      <td>169</td>\n",
       "      <td>56</td>\n",
       "      <td>66</td>\n",
       "    </tr>\n",
       "    <tr>\n",
       "      <th>Data Analytics</th>\n",
       "      <td>106</td>\n",
       "      <td>106</td>\n",
       "      <td>34</td>\n",
       "      <td>36</td>\n",
       "      <td>17</td>\n",
       "      <td>17</td>\n",
       "    </tr>\n",
       "    <tr>\n",
       "      <th>Ethnography</th>\n",
       "      <td>6</td>\n",
       "      <td>6</td>\n",
       "      <td>3</td>\n",
       "      <td>0</td>\n",
       "      <td>2</td>\n",
       "      <td>0</td>\n",
       "    </tr>\n",
       "    <tr>\n",
       "      <th>Experiment</th>\n",
       "      <td>117</td>\n",
       "      <td>117</td>\n",
       "      <td>29</td>\n",
       "      <td>20</td>\n",
       "      <td>13</td>\n",
       "      <td>6</td>\n",
       "    </tr>\n",
       "    <tr>\n",
       "      <th>Field Study</th>\n",
       "      <td>184</td>\n",
       "      <td>184</td>\n",
       "      <td>58</td>\n",
       "      <td>47</td>\n",
       "      <td>26</td>\n",
       "      <td>22</td>\n",
       "    </tr>\n",
       "    <tr>\n",
       "      <th>Literature Analysis</th>\n",
       "      <td>60</td>\n",
       "      <td>60</td>\n",
       "      <td>14</td>\n",
       "      <td>16</td>\n",
       "      <td>12</td>\n",
       "      <td>12</td>\n",
       "    </tr>\n",
       "    <tr>\n",
       "      <th>Literature Review</th>\n",
       "      <td>95</td>\n",
       "      <td>95</td>\n",
       "      <td>34</td>\n",
       "      <td>19</td>\n",
       "      <td>12</td>\n",
       "      <td>4</td>\n",
       "    </tr>\n",
       "    <tr>\n",
       "      <th>Opinion</th>\n",
       "      <td>32</td>\n",
       "      <td>32</td>\n",
       "      <td>8</td>\n",
       "      <td>8</td>\n",
       "      <td>8</td>\n",
       "      <td>2</td>\n",
       "    </tr>\n",
       "    <tr>\n",
       "      <th>Other</th>\n",
       "      <td>128</td>\n",
       "      <td>127</td>\n",
       "      <td>33</td>\n",
       "      <td>17</td>\n",
       "      <td>18</td>\n",
       "      <td>10</td>\n",
       "    </tr>\n",
       "    <tr>\n",
       "      <th>Prototype</th>\n",
       "      <td>39</td>\n",
       "      <td>39</td>\n",
       "      <td>14</td>\n",
       "      <td>8</td>\n",
       "      <td>5</td>\n",
       "      <td>2</td>\n",
       "    </tr>\n",
       "    <tr>\n",
       "      <th>Simulation</th>\n",
       "      <td>27</td>\n",
       "      <td>27</td>\n",
       "      <td>7</td>\n",
       "      <td>5</td>\n",
       "      <td>1</td>\n",
       "      <td>0</td>\n",
       "    </tr>\n",
       "    <tr>\n",
       "      <th>Survey</th>\n",
       "      <td>239</td>\n",
       "      <td>239</td>\n",
       "      <td>70</td>\n",
       "      <td>63</td>\n",
       "      <td>34</td>\n",
       "      <td>30</td>\n",
       "    </tr>\n",
       "    <tr>\n",
       "      <th>Tutorial</th>\n",
       "      <td>5</td>\n",
       "      <td>5</td>\n",
       "      <td>2</td>\n",
       "      <td>0</td>\n",
       "      <td>2</td>\n",
       "      <td>1</td>\n",
       "    </tr>\n",
       "    <tr>\n",
       "      <th>Average</th>\n",
       "      <td>114</td>\n",
       "      <td>114</td>\n",
       "      <td>34</td>\n",
       "      <td>31</td>\n",
       "      <td>15</td>\n",
       "      <td>14</td>\n",
       "    </tr>\n",
       "  </tbody>\n",
       "</table>\n",
       "</div>"
      ],
      "text/plain": [
       "                     TruePosTrain     ...       PredPosTest\n",
       "Action Research                13     ...                 2\n",
       "Case Study                    221     ...                36\n",
       "Conceptual                    448     ...                66\n",
       "Data Analytics                106     ...                17\n",
       "Ethnography                     6     ...                 0\n",
       "Experiment                    117     ...                 6\n",
       "Field Study                   184     ...                22\n",
       "Literature Analysis            60     ...                12\n",
       "Literature Review              95     ...                 4\n",
       "Opinion                        32     ...                 2\n",
       "Other                         128     ...                10\n",
       "Prototype                      39     ...                 2\n",
       "Simulation                     27     ...                 0\n",
       "Survey                        239     ...                30\n",
       "Tutorial                        5     ...                 1\n",
       "Average                       114     ...                14\n",
       "\n",
       "[16 rows x 6 columns]"
      ]
     },
     "execution_count": 23,
     "metadata": {},
     "output_type": "execute_result"
    }
   ],
   "source": [
    "test_statistics"
   ]
  },
  {
   "cell_type": "code",
   "execution_count": null,
   "metadata": {},
   "outputs": [],
   "source": []
  }
 ],
 "metadata": {
  "colab": {
   "collapsed_sections": [
    "YdEQFXVHitJe"
   ],
   "name": "16_SepConv1D_SameAs12_01_corpus_500filters_bs24_Dropout01_005_015.ipynb",
   "provenance": [],
   "version": "0.3.2"
  },
  "kernelspec": {
   "display_name": "Python 3",
   "language": "python",
   "name": "python3"
  },
  "language_info": {
   "codemirror_mode": {
    "name": "ipython",
    "version": 3
   },
   "file_extension": ".py",
   "mimetype": "text/x-python",
   "name": "python",
   "nbconvert_exporter": "python",
   "pygments_lexer": "ipython3",
   "version": "3.6.6"
  },
  "toc": {
   "base_numbering": 1,
   "nav_menu": {},
   "number_sections": false,
   "sideBar": true,
   "skip_h1_title": false,
   "title_cell": "Table of Contents",
   "title_sidebar": "Contents",
   "toc_cell": false,
   "toc_position": {},
   "toc_section_display": true,
   "toc_window_display": false
  },
  "varInspector": {
   "cols": {
    "lenName": 16,
    "lenType": 16,
    "lenVar": 40
   },
   "kernels_config": {
    "python": {
     "delete_cmd_postfix": "",
     "delete_cmd_prefix": "del ",
     "library": "var_list.py",
     "varRefreshCmd": "print(var_dic_list())"
    },
    "r": {
     "delete_cmd_postfix": ") ",
     "delete_cmd_prefix": "rm(",
     "library": "var_list.r",
     "varRefreshCmd": "cat(var_dic_list()) "
    }
   },
   "types_to_exclude": [
    "module",
    "function",
    "builtin_function_or_method",
    "instance",
    "_Feature"
   ],
   "window_display": false
  }
 },
 "nbformat": 4,
 "nbformat_minor": 2
}
